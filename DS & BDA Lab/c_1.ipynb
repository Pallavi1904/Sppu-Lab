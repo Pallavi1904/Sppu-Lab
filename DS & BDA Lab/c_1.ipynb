{
 "cells": [
  {
   "cell_type": "code",
   "execution_count": 1,
   "id": "3b2e73b2-c078-4976-b57b-a1c973fd7a5c",
   "metadata": {},
   "outputs": [],
   "source": [
    "import requests\n",
    "from bs4 import BeautifulSoup"
   ]
  },
  {
   "cell_type": "code",
   "execution_count": 3,
   "id": "4ebd86b1-3a29-455f-8a6e-21fb9992bd05",
   "metadata": {},
   "outputs": [],
   "source": [
    "url = \"https://www.amazon.in/product-reviews/B09G9BL5CP\"\n",
    "response = requests.get(url)\n",
    "soup = BeautifulSoup(response.content, 'html.parser')"
   ]
  },
  {
   "cell_type": "code",
   "execution_count": 4,
   "id": "6566d4a7-2aba-4ae0-83b1-9ecd128802e3",
   "metadata": {},
   "outputs": [],
   "source": [
    "comments = soup.find_all('span', {'data-hook': 'review-body'})\n",
    "for comment in comments:\n",
    "    print(\"Comment:\", comment.get_text(strip=True), \"\\n\")"
   ]
  },
  {
   "cell_type": "code",
   "execution_count": 5,
   "id": "9fec8932-5403-4f73-9639-382ff889ba69",
   "metadata": {},
   "outputs": [],
   "source": [
    "ratings = soup.find_all('i', {'data-hook': 'review-star-rating'})\n",
    "if not ratings:\n",
    "    ratings = soup.find_all('i', {'data-hook': 'cmps-review-star-rating'})  # Fallback\n",
    "\n",
    "for i, rating in enumerate(ratings, 1):\n",
    "    print(f\"Rating {i}:\", rating.get_text(strip=True))"
   ]
  },
  {
   "cell_type": "code",
   "execution_count": 6,
   "id": "0e5f2eab-67fa-46f6-ad1b-6ce4f19a9079",
   "metadata": {},
   "outputs": [],
   "source": [
    "tags = soup.find_all('a', {'class': 'a-size-base a-link-normal review-title-content a-text-bold'})\n",
    "for i, tag in enumerate(tags, 1):\n",
    "    print(f\"Tag {i}:\", tag.get_text(strip=True))"
   ]
  },
  {
   "cell_type": "code",
   "execution_count": 11,
   "id": "fe8c8067-fb9e-4b35-bb3a-bd3b8bb43bf4",
   "metadata": {},
   "outputs": [],
   "source": [
    "names = soup.find_all('span', {'class': 'a-profile-name'})\n",
    "for i, name in enumerate(names, 1):\n",
    "    print(f\"Customer {i}:\", name.get_text(strip=True))"
   ]
  },
  {
   "cell_type": "code",
   "execution_count": null,
   "id": "1af14da6-b9d8-4583-b1c6-d12f4d8871ac",
   "metadata": {},
   "outputs": [],
   "source": []
  }
 ],
 "metadata": {
  "kernelspec": {
   "display_name": "Python [conda env:base] *",
   "language": "python",
   "name": "conda-base-py"
  },
  "language_info": {
   "codemirror_mode": {
    "name": "ipython",
    "version": 3
   },
   "file_extension": ".py",
   "mimetype": "text/x-python",
   "name": "python",
   "nbconvert_exporter": "python",
   "pygments_lexer": "ipython3",
   "version": "3.12.7"
  }
 },
 "nbformat": 4,
 "nbformat_minor": 5
}
